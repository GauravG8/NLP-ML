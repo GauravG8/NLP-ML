{
 "cells": [
  {
   "cell_type": "code",
   "execution_count": 6,
   "metadata": {},
   "outputs": [
    {
     "name": "stdout",
     "output_type": "stream",
     "text": [
      "0.19.1\n"
     ]
    }
   ],
   "source": [
    "from itertools import chain\n",
    "import nltk\n",
    "from sklearn.metrics import classification_report, confusion_matrix\n",
    "from sklearn.preprocessing import LabelBinarizer\n",
    "import sklearn\n",
    "import pycrfsuite\n",
    "\n",
    "print(sklearn.__version__)"
   ]
  },
  {
   "cell_type": "code",
   "execution_count": 78,
   "metadata": {},
   "outputs": [
    {
     "data": {
      "text/plain": [
       "[[('King', 'r'), ('Solomon', 'n'), ('conquered', 'a'), ('France', 'c')],\n",
       " [('Prince', 'r'), ('Charles', 'n'), ('captured', 'a'), ('Rome', 'c')]]"
      ]
     },
     "execution_count": 78,
     "metadata": {},
     "output_type": "execute_result"
    }
   ],
   "source": [
    "train_sents = [[('King' ,'r'), ('Solomon','n' ),('conquered','a'),('France', 'c')],[('Prince','r'),('Charles','n'),('captured','a'),('Rome','c')]]\n",
    "train_sents"
   ]
  },
  {
   "cell_type": "code",
   "execution_count": 79,
   "metadata": {},
   "outputs": [
    {
     "name": "stdout",
     "output_type": "stream",
     "text": [
      "[[('Queen', 'r'), ('Elizabeth', 'n'), ('conquered', 'a'), ('Italy', 'c')], [('Prince', 'r'), ('George', 'n'), ('captured', 'a'), ('Turkey', 'c')]]\n"
     ]
    }
   ],
   "source": [
    "test_sents = [[('Queen' ,'r'), ('Elizabeth','n' ),('conquered','a'),('Italy', 'c')],[('Prince','r'),('George','n'),('captured','a'),('Turkey','c')]]\n",
    "print test_sents"
   ]
  },
  {
   "cell_type": "code",
   "execution_count": 61,
   "metadata": {},
   "outputs": [],
   "source": [
    "person_set = {'Solomon','Charles'}\n",
    "activity_set = {'conquered','captured'}\n",
    "place_set = {'France','Rome'}\n",
    "royalty_set = {'Prince','King'}\n",
    "presence_of_feature = lambda x,y: x in y"
   ]
  },
  {
   "cell_type": "code",
   "execution_count": 64,
   "metadata": {},
   "outputs": [],
   "source": [
    "def word2features(sent, i):\n",
    "    word = sent[i][0]\n",
    "    features = [\n",
    "        'bias',\n",
    "        #'word.lower=' + word.lower(),\n",
    "        #'word[-3:]=' + word[-3:],\n",
    "        #'word[-2:]=' + word[-2:],\n",
    "        #'word.isupper=%s' % word.isupper(),\n",
    "        'word.isperson=%s'% presence_of_feature(word,person_set),\n",
    "        'word.isplace=%s'% presence_of_feature(word,place_set),\n",
    "        'word.isroyalty=%s'% presence_of_feature(word,royalty_set),\n",
    "        'word.isactivity=%s'% presence_of_feature(word,activity_set)\n",
    "        #'word.istitle=%s' % word.istitle(),\n",
    "        #'word.isdigit=%s' % word.isdigit()\n",
    "        #'postag=' + postag,\n",
    "        #'postag[:2]=' + postag[:2],\n",
    "    ]\n",
    "    if i > 0:\n",
    "        word1 = sent[i-1][0]\n",
    "        postag1 = sent[i-1][1]\n",
    "        features.extend([\n",
    "            '-1:word.isperson=%s'% presence_of_feature(word1,person_set),\n",
    "            '-1:word.isplace=%s'% presence_of_feature(word1,place_set),\n",
    "            '-1:word.isroyalty=%s'% presence_of_feature(word1,royalty_set),\n",
    "            '-1:word.isactivity=%s'% presence_of_feature(word1,activity_set)\n",
    "            #'-1:word.lower=' + word1.lower(),\n",
    "            #'-1:word.istitle=%s' % word1.istitle(),\n",
    "            #'-1:word.isupper=%s' % word1.isupper(),\n",
    "            #'-1:postag=' + postag1,\n",
    "            #'-1:postag[:2]=' + postag1[:2],\n",
    "        ])\n",
    "    else:\n",
    "        features.append('BOS')\n",
    "        \n",
    "    if i < len(sent)-1:\n",
    "        word1 = sent[i+1][0]\n",
    "        postag1 = sent[i+1][1]\n",
    "        features.extend([\n",
    "            '+1:word.isperson=%s'% presence_of_feature(word,person_set),\n",
    "            '+1:word.isplace=%s'% presence_of_feature(word,place_set),\n",
    "            '+1:word.isroyalty=%s'% presence_of_feature(word,royalty_set),\n",
    "            '+1:word.isactivity=%s'% presence_of_feature(word,activity_set)\n",
    "            #'+1:word.lower=' + word1.lower(),\n",
    "            #'+1:word.istitle=%s' % word1.istitle(),\n",
    "            #'+1:word.isupper=%s' % word1.isupper(),\n",
    "            #'+1:postag=' + postag1,\n",
    "            #'+1:postag[:2]=' + postag1[:2],\n",
    "        ])\n",
    "    else:\n",
    "        features.append('EOS')\n",
    "                \n",
    "    return features\n",
    "\n",
    "\n",
    "def sent2features(sent):\n",
    "    return [word2features(sent, i) for i in range(len(sent))]\n",
    "\n",
    "def sent2labels(sent):\n",
    "    return [label for token, label in sent]\n",
    "\n",
    "def sent2tokens(sent):\n",
    "    return [token for token, label in sent]    "
   ]
  },
  {
   "cell_type": "markdown",
   "metadata": {},
   "source": [
    "This is what word2features extracts:"
   ]
  },
  {
   "cell_type": "code",
   "execution_count": 65,
   "metadata": {},
   "outputs": [],
   "source": [
    "y = sent2features(train_sents[0])"
   ]
  },
  {
   "cell_type": "code",
   "execution_count": 66,
   "metadata": {},
   "outputs": [
    {
     "data": {
      "text/plain": [
       "[['bias',\n",
       "  'word.isperson=False',\n",
       "  'word.isplace=False',\n",
       "  'word.isroyalty=True',\n",
       "  'word.isactivity=False',\n",
       "  'BOS',\n",
       "  '+1:word.isperson=False',\n",
       "  '+1:word.isplace=False',\n",
       "  '+1:word.isroyalty=True',\n",
       "  '+1:word.isactivity=False'],\n",
       " ['bias',\n",
       "  'word.isperson=True',\n",
       "  'word.isplace=False',\n",
       "  'word.isroyalty=False',\n",
       "  'word.isactivity=False',\n",
       "  '-1:word.isperson=False',\n",
       "  '-1:word.isplace=False',\n",
       "  '-1:word.isroyalty=True',\n",
       "  '-1:word.isactivity=False',\n",
       "  '+1:word.isperson=True',\n",
       "  '+1:word.isplace=False',\n",
       "  '+1:word.isroyalty=False',\n",
       "  '+1:word.isactivity=False'],\n",
       " ['bias',\n",
       "  'word.isperson=False',\n",
       "  'word.isplace=False',\n",
       "  'word.isroyalty=False',\n",
       "  'word.isactivity=True',\n",
       "  '-1:word.isperson=True',\n",
       "  '-1:word.isplace=False',\n",
       "  '-1:word.isroyalty=False',\n",
       "  '-1:word.isactivity=False',\n",
       "  '+1:word.isperson=False',\n",
       "  '+1:word.isplace=False',\n",
       "  '+1:word.isroyalty=False',\n",
       "  '+1:word.isactivity=True'],\n",
       " ['bias',\n",
       "  'word.isperson=False',\n",
       "  'word.isplace=True',\n",
       "  'word.isroyalty=False',\n",
       "  'word.isactivity=False',\n",
       "  '-1:word.isperson=False',\n",
       "  '-1:word.isplace=False',\n",
       "  '-1:word.isroyalty=False',\n",
       "  '-1:word.isactivity=True',\n",
       "  'EOS']]"
      ]
     },
     "execution_count": 66,
     "metadata": {},
     "output_type": "execute_result"
    }
   ],
   "source": [
    "y"
   ]
  },
  {
   "cell_type": "markdown",
   "metadata": {},
   "source": [
    "Extract the features from the data:"
   ]
  },
  {
   "cell_type": "code",
   "execution_count": 67,
   "metadata": {},
   "outputs": [],
   "source": [
    "X_train = [sent2features(s) for s in train_sents]\n",
    "y_train = [sent2labels(s) for s in train_sents]\n",
    "\n",
    "X_test = [sent2features(s) for s in test_sents]\n",
    "y_test = [sent2labels(s) for s in test_sents]"
   ]
  },
  {
   "cell_type": "code",
   "execution_count": 80,
   "metadata": {},
   "outputs": [],
   "source": [
    "trainer = pycrfsuite.Trainer(verbose=False)\n",
    "\n",
    "for xseq, yseq in zip(X_train, y_train):\n",
    "    trainer.append(xseq, yseq)"
   ]
  },
  {
   "cell_type": "code",
   "execution_count": 81,
   "metadata": {},
   "outputs": [],
   "source": [
    "trainer.set_params({\n",
    "    'c1': 1.0,   # coefficient for L1 penalty\n",
    "    'c2': 1e-3,  # coefficient for L2 penalty\n",
    "    'max_iterations': 50,  # stop earlier\n",
    "\n",
    "    # include transitions that are possible, but not observed\n",
    "    'feature.possible_transitions': True\n",
    "})"
   ]
  },
  {
   "cell_type": "markdown",
   "metadata": {},
   "source": [
    "Possible parameters for the default training algorithm:"
   ]
  },
  {
   "cell_type": "markdown",
   "metadata": {},
   "source": [
    "Train the model:"
   ]
  },
  {
   "cell_type": "code",
   "execution_count": 71,
   "metadata": {},
   "outputs": [],
   "source": [
    "trainer.train('test.crfsuite')"
   ]
  },
  {
   "cell_type": "code",
   "execution_count": 72,
   "metadata": {},
   "outputs": [
    {
     "name": "stdout",
     "output_type": "stream",
     "text": [
      "26 {'loss': 9.203317, 'error_norm': 0.00068, 'linesearch_trials': 1, 'active_features': 12, 'num': 26, 'time': 0.0, 'scores': {}, 'linesearch_step': 1.0, 'feature_norm': 2.219804}\n"
     ]
    }
   ],
   "source": [
    "print len(trainer.logparser.iterations), trainer.logparser.iterations[-1]"
   ]
  },
  {
   "cell_type": "code",
   "execution_count": 73,
   "metadata": {},
   "outputs": [
    {
     "data": {
      "text/plain": [
       "<contextlib.closing at 0x10e7a6490>"
      ]
     },
     "execution_count": 73,
     "metadata": {},
     "output_type": "execute_result"
    }
   ],
   "source": [
    "tagger = pycrfsuite.Tagger()\n",
    "tagger.open('test.crfsuite')"
   ]
  },
  {
   "cell_type": "markdown",
   "metadata": {},
   "source": [
    "Let's tag a sentence to see how it works:"
   ]
  },
  {
   "cell_type": "code",
   "execution_count": 83,
   "metadata": {},
   "outputs": [
    {
     "name": "stdout",
     "output_type": "stream",
     "text": [
      "[('Queen', 'r'), ('Elizabeth', 'n'), ('conquered', 'a'), ('Italy', 'c')]\n",
      "('Predicted:', 'r n a c')\n",
      "('Correct:  ', 'r n a c')\n"
     ]
    }
   ],
   "source": [
    "example_sent = test_sents[0]\n",
    "#print(' '.join(sent2tokens(example_sent)), end='\\n\\n')\n",
    "print example_sent\n",
    "print(\"Predicted:\", ' '.join(tagger.tag(sent2features(example_sent))))\n",
    "print(\"Correct:  \", ' '.join(sent2labels(example_sent)))"
   ]
  },
  {
   "cell_type": "code",
   "execution_count": 84,
   "metadata": {},
   "outputs": [],
   "source": [
    "def bio_classification_report(y_true, y_pred):\n",
    "    \"\"\"\n",
    "    Classification report for a list of BIO-encoded sequences.\n",
    "    It computes token-level metrics and discards \"O\" labels.\n",
    "    \n",
    "    Note that it requires scikit-learn 0.15+ (or a version from github master)\n",
    "    to calculate averages properly!\n",
    "    \"\"\"\n",
    "    lb = LabelBinarizer()\n",
    "    y_true_combined = lb.fit_transform(list(chain.from_iterable(y_true)))\n",
    "    y_pred_combined = lb.transform(list(chain.from_iterable(y_pred)))\n",
    "        \n",
    "    tagset = set(lb.classes_) - {'O'}\n",
    "    tagset = sorted(tagset, key=lambda tag: tag.split('-', 1)[::-1])\n",
    "    class_indices = {cls: idx for idx, cls in enumerate(lb.classes_)}\n",
    "    \n",
    "    return classification_report(\n",
    "        y_true_combined,\n",
    "        y_pred_combined,\n",
    "        labels = [class_indices[cls] for cls in tagset],\n",
    "        target_names = tagset,\n",
    "    )"
   ]
  },
  {
   "cell_type": "markdown",
   "metadata": {},
   "source": [
    "Predict entity labels for all sentences in our testing set ('testb' Spanish data):"
   ]
  },
  {
   "cell_type": "code",
   "execution_count": 85,
   "metadata": {},
   "outputs": [
    {
     "name": "stdout",
     "output_type": "stream",
     "text": [
      "CPU times: user 151 µs, sys: 4 µs, total: 155 µs\n",
      "Wall time: 165 µs\n"
     ]
    }
   ],
   "source": [
    "%%time\n",
    "y_pred = [tagger.tag(xseq) for xseq in X_test]"
   ]
  },
  {
   "cell_type": "markdown",
   "metadata": {},
   "source": [
    "..and check the result. Note this report is not comparable to results in CONLL2002 papers because here we check per-token results (not per-entity). Per-entity numbers will be worse.  "
   ]
  },
  {
   "cell_type": "code",
   "execution_count": 86,
   "metadata": {},
   "outputs": [
    {
     "name": "stdout",
     "output_type": "stream",
     "text": [
      "             precision    recall  f1-score   support\n",
      "\n",
      "                  1.00      1.00      1.00         8\n",
      "\n",
      "avg / total       1.00      1.00      1.00         8\n",
      "\n"
     ]
    }
   ],
   "source": [
    "print(bio_classification_report(y_test, y_pred))"
   ]
  },
  {
   "cell_type": "markdown",
   "metadata": {},
   "source": [
    "## Let's check what classifier learned"
   ]
  },
  {
   "cell_type": "code",
   "execution_count": 87,
   "metadata": {},
   "outputs": [
    {
     "name": "stdout",
     "output_type": "stream",
     "text": [
      "Top likely transitions:\n",
      "a      -> c       1.303724\n",
      "r      -> n       1.303344\n",
      "n      -> a       1.049274\n",
      "\n",
      "Top unlikely transitions:\n",
      "a      -> c       1.303724\n",
      "r      -> n       1.303344\n",
      "n      -> a       1.049274\n"
     ]
    }
   ],
   "source": [
    "from collections import Counter\n",
    "info = tagger.info()\n",
    "\n",
    "def print_transitions(trans_features):\n",
    "    for (label_from, label_to), weight in trans_features:\n",
    "        print(\"%-6s -> %-7s %0.6f\" % (label_from, label_to, weight))\n",
    "\n",
    "print(\"Top likely transitions:\")\n",
    "print_transitions(Counter(info.transitions).most_common(15))\n",
    "\n",
    "print(\"\\nTop unlikely transitions:\")\n",
    "print_transitions(Counter(info.transitions).most_common()[-15:])"
   ]
  },
  {
   "cell_type": "code",
   "execution_count": 88,
   "metadata": {},
   "outputs": [
    {
     "name": "stdout",
     "output_type": "stream",
     "text": [
      "Top positive:\n",
      "0.329791 n      -1:word.isroyalty=True\n",
      "0.210297 c      word.isplace=True\n",
      "0.210297 c      EOS\n",
      "0.210297 c      -1:word.isactivity=True\n",
      "0.210116 r      +1:word.isroyalty=True\n",
      "0.210116 r      BOS\n",
      "0.210116 r      word.isroyalty=True\n",
      "0.164729 a      +1:word.isactivity=True\n",
      "0.164729 a      word.isactivity=True\n",
      "\n",
      "Top negative:\n",
      "0.329791 n      -1:word.isroyalty=True\n",
      "0.210297 c      word.isplace=True\n",
      "0.210297 c      EOS\n",
      "0.210297 c      -1:word.isactivity=True\n",
      "0.210116 r      +1:word.isroyalty=True\n",
      "0.210116 r      BOS\n",
      "0.210116 r      word.isroyalty=True\n",
      "0.164729 a      +1:word.isactivity=True\n",
      "0.164729 a      word.isactivity=True\n"
     ]
    }
   ],
   "source": [
    "def print_state_features(state_features):\n",
    "    for (attr, label), weight in state_features:\n",
    "        print(\"%0.6f %-6s %s\" % (weight, label, attr))    \n",
    "\n",
    "print(\"Top positive:\")\n",
    "print_state_features(Counter(info.state_features).most_common(20))\n",
    "\n",
    "print(\"\\nTop negative:\")\n",
    "print_state_features(Counter(info.state_features).most_common()[-20:])"
   ]
  }
 ],
 "metadata": {
  "kernelspec": {
   "display_name": "Python 2",
   "language": "python",
   "name": "python2"
  },
  "language_info": {
   "codemirror_mode": {
    "name": "ipython",
    "version": 2
   },
   "file_extension": ".py",
   "mimetype": "text/x-python",
   "name": "python",
   "nbconvert_exporter": "python",
   "pygments_lexer": "ipython2",
   "version": "2.7.14"
  }
 },
 "nbformat": 4,
 "nbformat_minor": 1
}
